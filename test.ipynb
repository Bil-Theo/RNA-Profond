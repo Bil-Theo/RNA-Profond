{
 "cells": [
  {
   "cell_type": "code",
   "execution_count": 122,
   "metadata": {},
   "outputs": [],
   "source": [
    "import numpy as np\n",
    "from sklearn.metrics import accuracy_score\n",
    "from sklearn.datasets import make_circles\n",
    "import matplotlib.pyplot as plt\n",
    "import pickle\n",
    "from tqdm import tqdm\n",
    "import os\n",
    "from utilitaire import load_data\n"
   ]
  },
  {
   "cell_type": "code",
   "execution_count": 123,
   "metadata": {},
   "outputs": [],
   "source": [
    "def initialisation(dimension):\n",
    "    #Cette fonction iniatilise les variables w et b avec des valeurs aleatoires\n",
    "    C = len(dimension)\n",
    "    params = {}\n",
    "\n",
    "    for c in range(1, C):\n",
    "        params['w' + str(c)] = np.random.randn(dimension[c], dimension[c-1])\n",
    "        params['b' + str(c)] = np.random.randn(dimension[c], 1)\n",
    "\n",
    "    return params"
   ]
  },
  {
   "cell_type": "code",
   "execution_count": 124,
   "metadata": {},
   "outputs": [],
   "source": [
    "def forward_propagation(X, params):\n",
    "\n",
    "    A = {'a0': X}\n",
    "    C = len(params)//2 \n",
    "\n",
    "    for c in range(1, C+1):\n",
    "        Z = params['w'+str(c)].dot(A['a'+str(c-1)]) +params['b'+str(c)]\n",
    "        A['a'+str(c)] = 1/(1 + np.exp(-Z))\n",
    "\n",
    "    return A"
   ]
  },
  {
   "cell_type": "code",
   "execution_count": 125,
   "metadata": {},
   "outputs": [],
   "source": [
    "def cost_function(A, y):\n",
    "    epsilon = 1e-15\n",
    "    return 1/len(y)*np.sum(-y*np.log(A + epsilon) - (1 - y)*np.log(1 - A + epsilon))"
   ]
  },
  {
   "cell_type": "code",
   "execution_count": 126,
   "metadata": {},
   "outputs": [],
   "source": [
    "def back_propagation(A, X, y, params):\n",
    "    m  = y.shape[1]\n",
    "    gradient = {}\n",
    "    C = len(params)//2\n",
    "    dz = A['a'+str(C)] - y\n",
    "\n",
    "    for c in reversed(range(1, C + 1)):\n",
    "        gradient['dw'+str(c)] = 1/m * np.dot(dz, A['a'+str(c-1)].T)\n",
    "        gradient['db'+str(c)] = 1/m * np.sum(dz, axis=1, keepdims=True)\n",
    "        if c > 1:\n",
    "            dz = np.dot(params['w'+str(c)].T, dz) * A['a'+str(c-1)] * (1 - A['a'+str(c-1)])\n",
    "\n",
    "    return gradient"
   ]
  },
  {
   "cell_type": "code",
   "execution_count": 127,
   "metadata": {},
   "outputs": [],
   "source": [
    "def udpate(gradient, params, rate_learning):\n",
    "    C = len(params)//2\n",
    "    for c in range(1, C + 1):\n",
    "        params['w'+str(c)] = params['w'+str(c)] - rate_learning * gradient['dw'+str(c)]\n",
    "        params['b'+str(c)] = params['b'+str(c)] - rate_learning * gradient['db'+str(c)]\n",
    "\n",
    "    return params\n"
   ]
  },
  {
   "cell_type": "code",
   "execution_count": 128,
   "metadata": {},
   "outputs": [],
   "source": [
    "def prediction(X, params):\n",
    "    A = forward_propagation(X, params)\n",
    "    Cf = len(params)//2\n",
    "    return A['a'+str(Cf)] >= 0.5"
   ]
  },
  {
   "cell_type": "code",
   "execution_count": 138,
   "metadata": {},
   "outputs": [],
   "source": [
    "def neural_network(X, Y, hidden_layers ,nbr_iteration = 1000, rate_learning = 0.1):\n",
    "    dimensions = list(hidden_layers)\n",
    "    dimensions.insert(0, X.shape[0])\n",
    "    dimensions.append(Y.shape[0])\n",
    "    params = initialisation(dimensions)\n",
    "\n",
    "    Lg_train = []\n",
    "    acc_train = []\n",
    "    #Lg_test = []\n",
    "    #acc_test = []\n",
    "    cscore = 0\n",
    "\n",
    "    for i in tqdm(range(nbr_iteration)):\n",
    "        A = forward_propagation(X, params)   \n",
    "        gradient = back_propagation(A, X, Y, params)  \n",
    "        params = udpate(gradient, params, rate_learning)   \n",
    "        if i % 10 == 0:\n",
    "            #for train\n",
    "            Cf = len(params)//2\n",
    "            Lg_train.append(cost_function(A['a'+str(Cf)], Y))\n",
    "            y_pred = prediction(X, params)\n",
    "            score = accuracy_score(Y.flatten(), y_pred.flatten())\n",
    "            acc_train.append(score)\n",
    "\n",
    "\n",
    "            \"\"\"A_t = forward_propagation(x, params)\n",
    "            #for train\n",
    "            Lg_test.append(cost_function(A_t['A2'], y))\n",
    "            y_pred = prediction(x, params)\n",
    "            ym = y.flatten()\n",
    "            rate = accuracy_score(ym, y_pred.flatten()[:ym.shape[0]])\n",
    "            acc_test.append(rate)\"\"\"\n",
    "        \n",
    "\n",
    "\n",
    "        \n",
    "    print(score)\n",
    "    plt.figure(figsize=(12,4))\n",
    "    plt.subplot(1,2,1)\n",
    "    plt.plot(Lg_train, label = 'Train Loss')\n",
    "    #plt.plot(Lg_test, label = 'Test Loss')\n",
    "    plt.legend()\n",
    "    plt.subplot(1,2,2)\n",
    "    plt.plot(acc_train, label = 'Train Acc')\n",
    "    #plt.plot(acc_test, label = 'Test Acc')\n",
    "    plt.legend()\n",
    "    plt.show()\n",
    "    return params, score"
   ]
  },
  {
   "cell_type": "code",
   "execution_count": 130,
   "metadata": {},
   "outputs": [],
   "source": [
    "def show_image(x):\n",
    "    plt.figure(figsize=(18,8))\n",
    "    for i in range(1, 15):\n",
    "        plt.subplot(4, 5, i)\n",
    "        plt.imshow(x[i])\n",
    "        plt.tight_layout()\n",
    "    plt.show()"
   ]
  },
  {
   "cell_type": "code",
   "execution_count": 131,
   "metadata": {},
   "outputs": [],
   "source": [
    "def save_model(params):\n",
    "    \n",
    "    with open('./datasets/deep_model.data', 'wb') as file:\n",
    "        myPickler  = pickle.Pickler(params)\n",
    "        myPickler.dump(params)\n",
    "        file.close()"
   ]
  },
  {
   "cell_type": "code",
   "execution_count": 132,
   "metadata": {},
   "outputs": [],
   "source": [
    "def redimension(X_train, Y_train, X_test, Y_test):\n",
    "    Y_train = Y_train.T\n",
    "    Y_test = Y_test.T\n",
    "    X_train =  X_train.T\n",
    "    X_test = X_test.T\n",
    "\n",
    "    X_train = X_train.reshape(-1, X_train.shape[-1])/X_train.max()\n",
    "    X_test = X_test.reshape(-1, X_test.shape[-1])/X_test.max()\n",
    "\n",
    "    m_train = 300\n",
    "    m_test = 80\n",
    "\n",
    "    X_train = X_train[:, :m_train]\n",
    "    X_test = X_test[:, :m_test]\n",
    "    Y_train = Y_train[:, :m_train]\n",
    "    Y_test = Y_test[:, :m_test]\n",
    "\n",
    "    return  X_train, Y_train, X_test, Y_test"
   ]
  },
  {
   "cell_type": "code",
   "execution_count": 133,
   "metadata": {},
   "outputs": [],
   "source": [
    "X, y = make_circles(n_samples=100, random_state=0,  noise = 0.01)\n",
    "\n",
    "y = y.reshape(y.shape[0], 1)\n",
    "\n",
    "X = X.T\n",
    "Y = y.T"
   ]
  },
  {
   "cell_type": "code",
   "execution_count": 108,
   "metadata": {},
   "outputs": [
    {
     "data": {
      "text/plain": [
       "array([[1],\n",
       "       [1],\n",
       "       [0],\n",
       "       [1],\n",
       "       [1],\n",
       "       [1],\n",
       "       [0],\n",
       "       [1],\n",
       "       [1],\n",
       "       [1],\n",
       "       [1],\n",
       "       [1],\n",
       "       [1],\n",
       "       [0],\n",
       "       [0],\n",
       "       [0],\n",
       "       [0],\n",
       "       [0],\n",
       "       [0],\n",
       "       [0],\n",
       "       [0],\n",
       "       [1],\n",
       "       [0],\n",
       "       [1],\n",
       "       [0],\n",
       "       [0],\n",
       "       [0],\n",
       "       [1],\n",
       "       [1],\n",
       "       [1],\n",
       "       [1],\n",
       "       [1],\n",
       "       [1],\n",
       "       [1],\n",
       "       [1],\n",
       "       [0],\n",
       "       [0],\n",
       "       [1],\n",
       "       [1],\n",
       "       [1],\n",
       "       [0],\n",
       "       [1],\n",
       "       [0],\n",
       "       [0],\n",
       "       [0],\n",
       "       [0],\n",
       "       [0],\n",
       "       [0],\n",
       "       [0],\n",
       "       [0],\n",
       "       [1],\n",
       "       [1],\n",
       "       [0],\n",
       "       [0],\n",
       "       [0],\n",
       "       [1],\n",
       "       [0],\n",
       "       [0],\n",
       "       [0],\n",
       "       [1],\n",
       "       [0],\n",
       "       [0],\n",
       "       [1],\n",
       "       [1],\n",
       "       [1],\n",
       "       [1],\n",
       "       [0],\n",
       "       [1],\n",
       "       [0],\n",
       "       [1],\n",
       "       [0],\n",
       "       [0],\n",
       "       [0],\n",
       "       [1],\n",
       "       [1],\n",
       "       [1],\n",
       "       [0],\n",
       "       [1],\n",
       "       [1],\n",
       "       [1],\n",
       "       [0],\n",
       "       [0],\n",
       "       [1],\n",
       "       [0],\n",
       "       [0],\n",
       "       [1],\n",
       "       [1],\n",
       "       [0],\n",
       "       [1],\n",
       "       [1],\n",
       "       [1],\n",
       "       [0],\n",
       "       [0],\n",
       "       [1],\n",
       "       [0],\n",
       "       [1],\n",
       "       [1],\n",
       "       [1],\n",
       "       [0],\n",
       "       [0]], dtype=int64)"
      ]
     },
     "execution_count": 108,
     "metadata": {},
     "output_type": "execute_result"
    }
   ],
   "source": [
    "Y = true(Y)\n",
    "Y"
   ]
  },
  {
   "cell_type": "code",
   "execution_count": 141,
   "metadata": {},
   "outputs": [
    {
     "name": "stderr",
     "output_type": "stream",
     "text": [
      "100%|██████████| 1000/1000 [00:00<00:00, 1975.44it/s]\n"
     ]
    },
    {
     "name": "stdout",
     "output_type": "stream",
     "text": [
      "1.0\n"
     ]
    },
    {
     "data": {
      "image/png": "[encoded data removed]",
      "text/plain": [
       "<Figure size 1200x400 with 2 Axes>"
      ]
     },
     "metadata": {},
     "output_type": "display_data"
    }
   ],
   "source": [
    "params = neural_network(X, Y, hidden_layers = (32, 32, 32))"
   ]
  }
 ],
 "metadata": {
  "kernelspec": {
   "display_name": "Python 3",
   "language": "python",
   "name": "python3"
  },
  "language_info": {
   "codemirror_mode": {
    "name": "ipython",
    "version": 3
   },
   "file_extension": ".py",
   "mimetype": "text/x-python",
   "name": "python",
   "nbconvert_exporter": "python",
   "pygments_lexer": "ipython3",
   "version": "3.10.1"
  },
  "orig_nbformat": 4,
  "vscode": {
   "interpreter": {
    "hash": "3193fb0accdef9f6fd17129b1244c82338b3542ece22c46308cd1f58e620e808"
   }
  }
 },
 "nbformat": 4,
 "nbformat_minor": 2
}
